{
 "cells": [
  {
   "cell_type": "code",
   "execution_count": 3,
   "metadata": {},
   "outputs": [
    {
     "data": {
      "text/plain": [
       "(-1.495781568222099, -1.495781568222099, 0.0, 1.495781568222099)"
      ]
     },
     "execution_count": 3,
     "metadata": {},
     "output_type": "execute_result"
    }
   ],
   "source": [
    "import sympy as sp\n",
    "from anlis.derivative import newtonRaphson\n",
    "\n",
    "x = sp.Symbol(\"x\")\n",
    "g = sp.sin(x) - 2/3*x\n",
    "\n",
    "newtonRaphson(g, 0.904), newtonRaphson(g, 0.905), newtonRaphson(g, 0.906), newtonRaphson(g, 1)"
   ]
  },
  {
   "cell_type": "code",
   "execution_count": 7,
   "metadata": {},
   "outputs": [
    {
     "name": "stdout",
     "output_type": "stream",
     "text": [
      "0 0 4 0.500000000000000\n"
     ]
    }
   ],
   "source": [
    "import sympy as sp\n",
    "from anlis.derivative import oneSidedDerivative\n",
    "\n",
    "x = sp.Symbol(\"x\")\n",
    "f = x - x + 5 # constant function f(x) = 5, x-x to make it a sympy function (didn't find a better way)\n",
    "g = x**2 + 5\n",
    "h = 0.5*x + 8\n",
    "\n",
    "oneSidedDerivative(f, 0, \"-\"), oneSidedDerivative(g, 0),\\\n",
    "    oneSidedDerivative(g, 2, \"-\"), oneSidedDerivative(h, 2, \"-\")"
   ]
  },
  {
   "cell_type": "code",
   "execution_count": 16,
   "metadata": {},
   "outputs": [
    {
     "name": "stdout",
     "output_type": "stream",
     "text": [
      "1282.5742031365326 1361.9086899284832 0.0300000000000000\n"
     ]
    }
   ],
   "source": [
    "import sympy as sp\n",
    "from anlis.differential import absoluteDifferential, relativeDifferential\n",
    "\n",
    "U = sp.Symbol(\"U\")\n",
    "r = U / (2*sp.pi) # U = 2*pi*r\n",
    "V = 4/3 * sp.pi * r**3\n",
    "density = 2900 # kg/m^3\n",
    "m = density*V\n",
    "\n",
    "U0 = 3 # m\n",
    "dU = 0.03 # m\n",
    "\n",
    "dm = absoluteDifferential(m, (U, U0), dU)\n",
    "m0 = m.subs(U, U0)\n",
    "mMin, mMax = float(m0 - dm), float(m0 + dm)\n",
    "\n",
    "print( mMin, mMax, relativeDifferential(m, (U, 3), 0.03) )"
   ]
  },
  {
   "cell_type": "code",
   "execution_count": 24,
   "metadata": {},
   "outputs": [
    {
     "name": "stdout",
     "output_type": "stream",
     "text": [
      "3.875 3.872983346207417\n"
     ]
    }
   ],
   "source": [
    "import sympy as sp\n",
    "from anlis.differential import absoluteDifferential\n",
    "\n",
    "x = sp.Symbol(\"x\")\n",
    "f = sp.sqrt(x)\n",
    "\n",
    "x0 = 16\n",
    "dx = -1\n",
    "\n",
    "f0 = 4 # f(x0) = sqrt(16) = 4\n",
    "df = absoluteDifferential(f, (x, x0), dx)\n",
    "\n",
    "print( float(f0 + df), float(f.subs(x, x0 + dx)) )"
   ]
  },
  {
   "cell_type": "code",
   "execution_count": 1,
   "metadata": {},
   "outputs": [
    {
     "data": {
      "text/plain": [
       "([{x: -2}, {x: 8}], [{x: 8}], [{x: -2}])"
      ]
     },
     "execution_count": 1,
     "metadata": {},
     "output_type": "execute_result"
    }
   ],
   "source": [
    "import sympy as sp\n",
    "from anlis.criticalPoints import criticalPoints, minima, maxima\n",
    "\n",
    "x = sp.Symbol(\"x\")\n",
    "f = x**3 - 9*x**2 - 48*x + 52\n",
    "\n",
    "criticalPoints(f, x), minima(f, x), maxima(f, x)"
   ]
  },
  {
   "cell_type": "code",
   "execution_count": 6,
   "metadata": {},
   "outputs": [
    {
     "name": "stdout",
     "output_type": "stream",
     "text": [
      "2*a 0 1/(2*a)\n"
     ]
    }
   ],
   "source": [
    "import sympy as sp\n",
    "from anlis.derivative import curvature, centreOfCurvature\n",
    "\n",
    "a, x = sp.symbols(\"a x\")\n",
    "f = a * x**2\n",
    "\n",
    "mx, my = centreOfCurvature(f, x)\n",
    "\n",
    "curvature(f).subs(x, 0), mx.subs(x, 0), my.subs(x, 0)"
   ]
  },
  {
   "cell_type": "code",
   "execution_count": 1,
   "metadata": {},
   "outputs": [
    {
     "data": {
      "text/plain": [
       "([{x: 1.00000000000000}], [{x: 1.00000000000000}])"
      ]
     },
     "execution_count": 1,
     "metadata": {},
     "output_type": "execute_result"
    }
   ],
   "source": [
    "import sympy as sp\n",
    "from anlis.criticalPoints import turningPoints, saddlePoints\n",
    "\n",
    "x = sp.Symbol(\"x\")\n",
    "f = -2/3 * x**3 + 2*x**2 - 2*x + 2\n",
    "\n",
    "turningPoints(f, x), saddlePoints(f, x)"
   ]
  },
  {
   "cell_type": "code",
   "execution_count": 1,
   "metadata": {},
   "outputs": [
    {
     "data": {
      "text/plain": [
       "([-sqrt(6), sqrt(6)], [])"
      ]
     },
     "execution_count": 1,
     "metadata": {},
     "output_type": "execute_result"
    }
   ],
   "source": [
    "import sympy as sp\n",
    "from anlis.criticalPoints import turningPoints, saddlePoints\n",
    "\n",
    "x = sp.Symbol(\"x\")\n",
    "f = (-5*x**2 + 5) / x**3\n",
    "\n",
    "turningPoints(f, x), saddlePoints(f, x)"
   ]
  }
 ],
 "metadata": {
  "kernelspec": {
   "display_name": "Python 3",
   "language": "python",
   "name": "python3"
  },
  "language_info": {
   "codemirror_mode": {
    "name": "ipython",
    "version": 3
   },
   "file_extension": ".py",
   "mimetype": "text/x-python",
   "name": "python",
   "nbconvert_exporter": "python",
   "pygments_lexer": "ipython3",
   "version": "3.10.9"
  },
  "orig_nbformat": 4,
  "vscode": {
   "interpreter": {
    "hash": "2df53de82fe139b23b9a340061c8527273b7fa86551030a1983ff618b17018eb"
   }
  }
 },
 "nbformat": 4,
 "nbformat_minor": 2
}
