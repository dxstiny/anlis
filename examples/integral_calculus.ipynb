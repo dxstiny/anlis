{
 "cells": [
  {
   "cell_type": "code",
   "execution_count": 15,
   "metadata": {},
   "outputs": [
    {
     "data": {
      "text/latex": [
       "$\\displaystyle \\frac{3}{4}$"
      ],
      "text/plain": [
       "3/4"
      ]
     },
     "execution_count": 15,
     "metadata": {},
     "output_type": "execute_result"
    }
   ],
   "source": [
    "import sympy as sp\n",
    "\n",
    "x = sp.Symbol(\"x\")\n",
    "f = x**3 + x\n",
    "f.integrate((x, 0, 1))"
   ]
  },
  {
   "cell_type": "code",
   "execution_count": 12,
   "metadata": {},
   "outputs": [
    {
     "data": {
      "text/latex": [
       "$\\displaystyle \\frac{e^{x} \\sin{\\left(x \\right)}}{2} + \\frac{e^{x} \\cos{\\left(x \\right)}}{2}$"
      ],
      "text/plain": [
       "exp(x)*sin(x)/2 + exp(x)*cos(x)/2"
      ]
     },
     "execution_count": 12,
     "metadata": {},
     "output_type": "execute_result"
    }
   ],
   "source": [
    "import sympy as sp\n",
    "\n",
    "x = sp.Symbol(\"x\")\n",
    "f = sp.exp(x) * sp.cos(x)\n",
    "f.integrate(x)"
   ]
  },
  {
   "cell_type": "code",
   "execution_count": 30,
   "metadata": {},
   "outputs": [
    {
     "name": "stdout",
     "output_type": "stream",
     "text": [
      "32 1.628312899375075 0.000592624199773643\n",
      "64 1.6287573823717132 0.0001481412031355138\n",
      "128 1.628868489202797 3.7034372051784487e-05\n",
      "256 1.6288962650398937 9.258534954996052e-06\n",
      "512 1.6289032089447377 2.314630110981527e-06\n",
      "1024 1.6289049449175454 5.786573032555552e-07\n",
      "2048 1.628905378910543 1.4466430571612107e-07\n",
      "4096 1.628905487408768 3.6166080645146793e-08\n",
      "8192 1.6289055145333293 9.041519381399611e-09\n",
      "16384 1.6289055213144663 2.26038239613189e-09\n"
     ]
    },
    {
     "data": {
      "text/plain": [
       "(16384, 1.6289055213144663)"
      ]
     },
     "execution_count": 30,
     "metadata": {},
     "output_type": "execute_result"
    }
   ],
   "source": [
    "import sympy as sp\n",
    "from anlis.integral import trapezoidalRule\n",
    "\n",
    "x = sp.Symbol(\"x\")\n",
    "f = sp.exp(-x**2)\n",
    "a, b = -1, 2\n",
    "\n",
    "correct = f.integrate((x, a, b))\n",
    "\n",
    "n = 32\n",
    "while True:\n",
    "    approx = trapezoidalRule(f, a, b, n)\n",
    "    eps = abs(approx - correct)\n",
    "    print(n, approx, float(eps))\n",
    "    if eps < 5e-9:\n",
    "        break\n",
    "    if n > 1e4:\n",
    "        print(\"Too many iterations\")\n",
    "        break\n",
    "    n *= 2\n",
    "\n",
    "n, approx"
   ]
  },
  {
   "cell_type": "code",
   "execution_count": 31,
   "metadata": {},
   "outputs": [
    {
     "name": "stdout",
     "output_type": "stream",
     "text": [
      "32 1.6289058391715252 3.1559667649962223e-07\n",
      "64 1.6289055433705921 1.9795743418497123e-08\n",
      "128 1.6289055248131583 1.23830960664719e-09\n"
     ]
    },
    {
     "data": {
      "text/plain": [
       "(128, 1.6289055248131583)"
      ]
     },
     "execution_count": 31,
     "metadata": {},
     "output_type": "execute_result"
    }
   ],
   "source": [
    "import sympy as sp\n",
    "from anlis.integral import simpsonsRule\n",
    "\n",
    "x = sp.Symbol(\"x\")\n",
    "f = sp.exp(-x**2)\n",
    "a, b = -1, 2\n",
    "\n",
    "correct = f.integrate((x, a, b))\n",
    "\n",
    "n = 32\n",
    "while True:\n",
    "    approx = simpsonsRule(f, a, b, n)\n",
    "    eps = abs(approx - correct)\n",
    "    print(n, approx, float(eps))\n",
    "    if eps < 5e-9:\n",
    "        break\n",
    "    if n > 1e4:\n",
    "        print(\"Too many iterations\")\n",
    "        break\n",
    "    n *= 2\n",
    "\n",
    "n, approx"
   ]
  },
  {
   "cell_type": "code",
   "execution_count": 48,
   "metadata": {},
   "outputs": [
    {
     "data": {
      "text/plain": [
       "(248, 0.7468231359134702, 9.968989568657136e-07)"
      ]
     },
     "execution_count": 48,
     "metadata": {},
     "output_type": "execute_result"
    }
   ],
   "source": [
    "import sympy as sp\n",
    "from anlis.integral import trapezoidalRule\n",
    "\n",
    "x = sp.Symbol(\"x\")\n",
    "f = sp.exp(-x**2)\n",
    "a, b = 0, 1\n",
    "\n",
    "correct = f.integrate((x, a, b))\n",
    "\n",
    "for i in range(1, 10_000):\n",
    "    approx = trapezoidalRule(f, a, b, i)\n",
    "    eps = abs(approx - correct)\n",
    "    if eps < 10 ** -6:\n",
    "        break\n",
    "\n",
    "i, approx, float(eps)"
   ]
  },
  {
   "cell_type": "code",
   "execution_count": 1,
   "metadata": {},
   "outputs": [
    {
     "data": {
      "text/latex": [
       "$\\displaystyle 12.4074074074074$"
      ],
      "text/plain": [
       "12.4074074074074"
      ]
     },
     "execution_count": 1,
     "metadata": {},
     "output_type": "execute_result"
    }
   ],
   "source": [
    "import sympy as sp\n",
    "from anlis.integral import arcLength\n",
    "\n",
    "x = sp.Symbol(\"x\")\n",
    "f = x**(3/2)\n",
    "arcLength(f, 0, 5)"
   ]
  },
  {
   "cell_type": "code",
   "execution_count": 4,
   "metadata": {},
   "outputs": [
    {
     "data": {
      "text/plain": [
       "19.69695134839746"
      ]
     },
     "execution_count": 4,
     "metadata": {},
     "output_type": "execute_result"
    }
   ],
   "source": [
    "import sympy as sp\n",
    "from anlis.integral import arc, arcLength\n",
    "\n",
    "x = sp.Symbol(\"x\")\n",
    "f = 5 * sp.cosh(x / 5)\n",
    "\n",
    "float( 2 * arcLength(f, 0, 7.15) )"
   ]
  },
  {
   "cell_type": "code",
   "execution_count": 2,
   "metadata": {},
   "outputs": [
    {
     "data": {
      "text/latex": [
       "$\\displaystyle \\frac{\\log{\\left(1 + \\sqrt{2} \\right)}}{2} + \\frac{\\sqrt{2}}{2}$"
      ],
      "text/plain": [
       "log(1 + sqrt(2))/2 + sqrt(2)/2"
      ]
     },
     "metadata": {},
     "output_type": "display_data"
    },
    {
     "data": {
      "text/latex": [
       "$\\displaystyle \\sqrt{2}$"
      ],
      "text/plain": [
       "sqrt(2)"
      ]
     },
     "metadata": {},
     "output_type": "display_data"
    }
   ],
   "source": [
    "import sympy as sp\n",
    "from anlis.integral import archimedeanSpiralLength\n",
    "from IPython.display import display\n",
    "\n",
    "phi = sp.Symbol(\"phi\")\n",
    "\n",
    "display( archimedeanSpiralLength(0, 1), archimedeanSpiralLength(0, sp.ln(2), sp.exp(phi)) )"
   ]
  }
 ],
 "metadata": {
  "kernelspec": {
   "display_name": "Python 3",
   "language": "python",
   "name": "python3"
  },
  "language_info": {
   "codemirror_mode": {
    "name": "ipython",
    "version": 3
   },
   "file_extension": ".py",
   "mimetype": "text/x-python",
   "name": "python",
   "nbconvert_exporter": "python",
   "pygments_lexer": "ipython3",
   "version": "3.10.9"
  },
  "orig_nbformat": 4,
  "vscode": {
   "interpreter": {
    "hash": "2df53de82fe139b23b9a340061c8527273b7fa86551030a1983ff618b17018eb"
   }
  }
 },
 "nbformat": 4,
 "nbformat_minor": 2
}
