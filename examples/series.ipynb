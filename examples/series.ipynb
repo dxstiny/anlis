{
 "cells": [
  {
   "cell_type": "code",
   "execution_count": 2,
   "metadata": {},
   "outputs": [
    {
     "data": {
      "text/latex": [
       "$\\displaystyle 1171.0$"
      ],
      "text/plain": [
       "1171.00000000000"
      ]
     },
     "execution_count": 2,
     "metadata": {},
     "output_type": "execute_result"
    }
   ],
   "source": [
    "import sympy as sp\n",
    "from anlis.series.arithmetic import fromElements\n",
    "\n",
    "series = fromElements({ 22: 489, 51: 1127 })\n",
    "series.subs(sp.Symbol(\"n\"), 53)"
   ]
  },
  {
   "cell_type": "code",
   "execution_count": 3,
   "metadata": {},
   "outputs": [
    {
     "data": {
      "text/latex": [
       "$\\displaystyle 810.0$"
      ],
      "text/plain": [
       "810.000000000000"
      ]
     },
     "execution_count": 3,
     "metadata": {},
     "output_type": "execute_result"
    }
   ],
   "source": [
    "import sympy as sp\n",
    "from anlis.series.geometric import fromElements\n",
    "\n",
    "series = fromElements({ 6: 7290, 9: -196_830 })\n",
    "series.subs(sp.Symbol(\"n\"), 4)"
   ]
  },
  {
   "cell_type": "code",
   "execution_count": 4,
   "metadata": {},
   "outputs": [
    {
     "name": "stdout",
     "output_type": "stream",
     "text": [
      "a_1 = 2\n",
      "a_2 = 0\n",
      "a_3 = 2/3\n",
      "a_4 = 0\n",
      "a_5 = 2/5\n"
     ]
    },
    {
     "data": {
      "image/png": "[encoded data removed]",
      "text/plain": [
       "<Figure size 640x480 with 1 Axes>"
      ]
     },
     "metadata": {},
     "output_type": "display_data"
    }
   ],
   "source": [
    "import sympy as sp\n",
    "from anlis.series import seriesPlot\n",
    "\n",
    "n = sp.Symbol(\"n\")\n",
    "a_n = (1 - (-1)**n) / n\n",
    "\n",
    "# we can use sympy to find the first five terms\n",
    "for i in range(1, 6):\n",
    "    print(f\"a_{i} = {a_n.subs(n, i)}\")\n",
    "\n",
    "# we can also plot the first 10 terms\n",
    "seriesPlot(a_n, 10)"
   ]
  },
  {
   "cell_type": "code",
   "execution_count": 2,
   "metadata": {},
   "outputs": [
    {
     "data": {
      "text/plain": [
       "(8.00000000000000, 0.990099009900990, 1.00000000000000)"
      ]
     },
     "execution_count": 2,
     "metadata": {},
     "output_type": "execute_result"
    }
   ],
   "source": [
    "import sympy as sp\n",
    "from anlis.series.geometric import geometricSum\n",
    "\n",
    "geometricSum(2, 3/2), geometricSum(1, -0.01), geometricSum(1/3, 2/9)"
   ]
  },
  {
   "cell_type": "code",
   "execution_count": 1,
   "metadata": {},
   "outputs": [
    {
     "data": {
      "text/plain": [
       "(4*sqrt(2)*a + 8*a, 2.0*a**2)"
      ]
     },
     "execution_count": 1,
     "metadata": {},
     "output_type": "execute_result"
    }
   ],
   "source": [
    "import sympy as sp\n",
    "from anlis.series.geometric import sumFromFirstElement\n",
    "\n",
    "a = sp.Symbol(\"a\")\n",
    "U1 = 4*a\n",
    "A1 = a**2\n",
    "qu = 1/sp.sqrt(2)\n",
    "qa = 1/2\n",
    "\n",
    "sumFromFirstElement(U1, qu), sumFromFirstElement(A1, qa)"
   ]
  },
  {
   "cell_type": "code",
   "execution_count": 1,
   "metadata": {},
   "outputs": [
    {
     "data": {
      "text/plain": [
       "(None, None, converges to 1/5 (~0.2)))"
      ]
     },
     "execution_count": 1,
     "metadata": {},
     "output_type": "execute_result"
    }
   ],
   "source": [
    "import sympy as sp\n",
    "from anlis.convergence import ratioTest\n",
    "\n",
    "k = sp.Symbol(\"k\")\n",
    "an1 = 2*k + 1\n",
    "an2 = (1 + 1/k)**k\n",
    "an3 = k/5**k\n",
    "\n",
    "ratioTest(an1), ratioTest(an2), ratioTest(an3)"
   ]
  },
  {
   "cell_type": "code",
   "execution_count": 2,
   "metadata": {},
   "outputs": [
    {
     "data": {
      "text/plain": [
       "(converges to 0 (~0.0)), diverges, converges to 1/2 (~0.5)), diverges)"
      ]
     },
     "execution_count": 2,
     "metadata": {},
     "output_type": "execute_result"
    }
   ],
   "source": [
    "import sympy as sp\n",
    "from anlis.convergence import ratioTest\n",
    "\n",
    "k = sp.Symbol(\"k\")\n",
    "an1 = 3**k / sp.factorial(k)\n",
    "an2 = 4**k / k**2\n",
    "an3 = k * (1/2)**k\n",
    "an4 = sp.factorial(k)/k**3\n",
    "\n",
    "ratioTest(an1), ratioTest(an2), ratioTest(an3), ratioTest(an4)"
   ]
  },
  {
   "cell_type": "code",
   "execution_count": 1,
   "metadata": {},
   "outputs": [
    {
     "data": {
      "text/plain": [
       "(converges to 1/5 (~0.2)),\n",
       " converges to 1/4 (~0.25)),\n",
       " converges to 1/2 (~0.5)),\n",
       " converges to 0 (~0.0)))"
      ]
     },
     "execution_count": 1,
     "metadata": {},
     "output_type": "execute_result"
    }
   ],
   "source": [
    "import sympy as sp\n",
    "from anlis.convergence import ratioTest\n",
    "from anlis.series.geometric import fromElements\n",
    "\n",
    "k = sp.Symbol(\"k\")\n",
    "an1 = k/5**k\n",
    "an2 = fromElements({ 2: 1/2**2, 5: 1 /2**8 }, k)\n",
    "an3 = k * (1/2)**(k - 1)\n",
    "an4 = 3**(2*k)/sp.factorial(2*k)\n",
    "\n",
    "ratioTest(an1), ratioTest(an2), ratioTest(an3), ratioTest(an4)"
   ]
  },
  {
   "cell_type": "code",
   "execution_count": 6,
   "metadata": {},
   "outputs": [
    {
     "data": {
      "text/plain": [
       "(converges to 1/4 (~0.25)), converges to 0 (~0.0)), diverges)"
      ]
     },
     "execution_count": 6,
     "metadata": {},
     "output_type": "execute_result"
    }
   ],
   "source": [
    "import sympy as sp\n",
    "from anlis.convergence import ratioTest\n",
    "from anlis.series.geometric import fromElements\n",
    "\n",
    "k = sp.Symbol(\"k\")\n",
    "an1 = fromElements({ 1: 1, 2: 1 /2**2 }, k)\n",
    "an2 = 3**k / sp.factorial(k)\n",
    "an3 = 4**k / k**2\n",
    "\n",
    "ratioTest(an1), ratioTest(an2), ratioTest(an3)"
   ]
  }
 ],
 "metadata": {
  "kernelspec": {
   "display_name": "Python 3",
   "language": "python",
   "name": "python3"
  },
  "language_info": {
   "codemirror_mode": {
    "name": "ipython",
    "version": 3
   },
   "file_extension": ".py",
   "mimetype": "text/x-python",
   "name": "python",
   "nbconvert_exporter": "python",
   "pygments_lexer": "ipython3",
   "version": "3.10.9 (tags/v3.10.9:1dd9be6, Dec  6 2022, 20:01:21) [MSC v.1934 64 bit (AMD64)]"
  },
  "orig_nbformat": 4,
  "vscode": {
   "interpreter": {
    "hash": "2df53de82fe139b23b9a340061c8527273b7fa86551030a1983ff618b17018eb"
   }
  }
 },
 "nbformat": 4,
 "nbformat_minor": 2
}
